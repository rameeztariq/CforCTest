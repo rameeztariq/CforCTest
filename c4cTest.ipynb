{
 "cells": [
  {
   "cell_type": "code",
   "execution_count": 2,
   "metadata": {},
   "outputs": [
    {
     "name": "stdout",
     "output_type": "stream",
     "text": [
      "\n",
      "-------------+++++++++++++++ Violations By Category -------------+++++++++++++++\n",
      "       Violation Categories  Violations Count\n",
      "0  Air Pollutants and Odors                 2\n",
      "1         Animals and Pests               180\n",
      "2                Biohazards                 7\n",
      "3       Building Conditions                62\n",
      "4          Chemical Hazards                17\n",
      "5        Garbage and Refuse               126\n",
      "6               Retail Food                 1\n",
      "7     Unsanitary Conditions                83\n",
      "8                Vegetation                67\n",
      "\n",
      "-------------+++++++++++++++ Violations By Earliest Violation Date -------------+++++++++++++++\n",
      "       Violation Categories Earliest Violation Date\n",
      "0  Air Pollutants and Odors         2012-12-05 0:00\n",
      "1         Animals and Pests         2012-01-03 0:00\n",
      "2                Biohazards         2012-04-13 0:00\n",
      "3       Building Conditions         2012-01-12 0:00\n",
      "4          Chemical Hazards         2012-02-08 0:00\n",
      "5        Garbage and Refuse         2012-01-03 0:00\n",
      "6               Retail Food         2012-12-20 0:00\n",
      "7     Unsanitary Conditions         2012-01-03 0:00\n",
      "8                Vegetation         2012-02-01 0:00\n",
      "\n",
      "-------------+++++++++++++++ Violations By Latest Violation Date -------------+++++++++++++++\n",
      "       Violation Categories Latest Violation Date\n",
      "0  Air Pollutants and Odors       2012-12-19 0:00\n",
      "1         Animals and Pests       2012-12-28 0:00\n",
      "2                Biohazards       2012-12-18 0:00\n",
      "3       Building Conditions       2012-12-26 0:00\n",
      "4          Chemical Hazards       2012-12-06 0:00\n",
      "5        Garbage and Refuse       2012-12-21 0:00\n",
      "6               Retail Food       2012-12-20 0:00\n",
      "7     Unsanitary Conditions       2012-12-19 0:00\n",
      "8                Vegetation       2012-12-05 0:00\n"
     ]
    }
   ],
   "source": [
    "import pandas as pd\n",
    "\n",
    "fileURL ='C4C-dev-challenge-2018.csv'\n",
    "\n",
    "df = pd.read_csv(fileURL)\n",
    "print('')\n",
    "print('-------------+++++++++++++++ Violations By Category -------------+++++++++++++++')\n",
    "ViolationsByCategory = df.groupby(['violation_category']).count().reset_index().rename(columns={'violation_category':'Violation Categories','violation_type' : 'Violations Count'})\n",
    "print(ViolationsByCategory[['Violation Categories', 'Violations Count']])\n",
    "print('')\n",
    "print('-------------+++++++++++++++ Violations By Earliest Violation Date -------------+++++++++++++++')\n",
    "SortByDate = df.sort_values('violation_date').groupby('violation_category').first().reset_index().rename(columns={'violation_category':'Violation Categories','violation_date' : 'Earliest Violation Date'})\n",
    "print(SortByDate[['Violation Categories', 'Earliest Violation Date']])\n",
    "print('')\n",
    "print('-------------+++++++++++++++ Violations By Latest Violation Date -------------+++++++++++++++')\n",
    "SortByDate = df.sort_values('violation_date').groupby('violation_category').last().reset_index().rename(columns={'violation_category':'Violation Categories','violation_date' : 'Latest Violation Date'})\n",
    "print(SortByDate[['Violation Categories', 'Latest Violation Date']])"
   ]
  },
  {
   "cell_type": "code",
   "execution_count": null,
   "metadata": {},
   "outputs": [],
   "source": []
  }
 ],
 "metadata": {
  "kernelspec": {
   "display_name": "Python 3",
   "language": "python",
   "name": "python3"
  },
  "language_info": {
   "codemirror_mode": {
    "name": "ipython",
    "version": 3
   },
   "file_extension": ".py",
   "mimetype": "text/x-python",
   "name": "python",
   "nbconvert_exporter": "python",
   "pygments_lexer": "ipython3",
   "version": "3.7.6"
  }
 },
 "nbformat": 4,
 "nbformat_minor": 4
}
